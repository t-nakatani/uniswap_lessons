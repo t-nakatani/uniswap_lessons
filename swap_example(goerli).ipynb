{
 "cells": [
  {
   "cell_type": "code",
   "execution_count": 38,
   "id": "aa4cd406",
   "metadata": {
    "scrolled": true
   },
   "outputs": [
    {
     "name": "stdout",
     "output_type": "stream",
     "text": [
      "Collecting brownie\n",
      "  Downloading Brownie-0.5.1.tar.gz (74 kB)\n",
      "\u001b[2K     \u001b[90m━━━━━━━━━━━━━━━━━━━━━━━━━━━━━━━━━━━━━━━━\u001b[0m \u001b[32m74.6/74.6 kB\u001b[0m \u001b[31m2.4 MB/s\u001b[0m eta \u001b[36m0:00:00\u001b[0m\n",
      "\u001b[?25h  Preparing metadata (setup.py) ... \u001b[?25ldone\n",
      "\u001b[?25hBuilding wheels for collected packages: brownie\n",
      "  Building wheel for brownie (setup.py) ... \u001b[?25ldone\n",
      "\u001b[?25h  Created wheel for brownie: filename=Brownie-0.5.1-py3-none-any.whl size=40694 sha256=a5bb7e069c931577de5218ef1ee42138ffec75f4c943851311274aac404ed703\n",
      "  Stored in directory: /root/.cache/pip/wheels/6f/cb/31/7a689055b3614f8efae433145306ff0c6ebea2bc92b160c264\n",
      "Successfully built brownie\n",
      "Installing collected packages: brownie\n",
      "Successfully installed brownie-0.5.1\n",
      "\u001b[33mWARNING: Running pip as the 'root' user can result in broken permissions and conflicting behaviour with the system package manager. It is recommended to use a virtual environment instead: https://pip.pypa.io/warnings/venv\u001b[0m\u001b[33m\n",
      "\u001b[0m"
     ]
    }
   ],
   "source": [
    "!pip install brownie"
   ]
  },
  {
   "cell_type": "markdown",
   "id": "e9abff97",
   "metadata": {},
   "source": [
    "## GET pool address & reserves"
   ]
  },
  {
   "cell_type": "code",
   "execution_count": 31,
   "id": "9c72d02f",
   "metadata": {
    "scrolled": true
   },
   "outputs": [
    {
     "name": "stdout",
     "output_type": "stream",
     "text": [
      "The dotenv extension is already loaded. To reload it, use:\n",
      "  %reload_ext dotenv\n",
      "\n",
      "token0 =  0xB4FBF271143F4FBf7B91A5ded31805e42b2208d6\n",
      "token1 =  0xCc7bb2D219A0FC08033E130629C2B854b7bA9195\n",
      "\n",
      "token0 reserver =  6262.467355434803\n",
      "token1 reserver =  938548.3020116354\n",
      " block.timestamp =  1682048280\n",
      "token0 price =  149.86877355889578\n"
     ]
    }
   ],
   "source": [
    "%load_ext dotenv\n",
    "%dotenv .env -o -v\n",
    "\n",
    "from web3 import Web3, HTTPProvider\n",
    "import json, os, time\n",
    "\n",
    "RPC_URL = os.getenv(\"GOERLI_RPC\")\n",
    "FACTORY_ADDRESS = \"0x5C69bEe701ef814a2B6a3EDD4B1652CB9cc5aA6f\" # UniswapV2Factory\n",
    "ROUTER_ADDRESS = \"0x7a250d5630B4cF539739dF2C5dAcb4c659F2488D\" # UniswapV2Router\n",
    "ZETA_ADDRESS = \"0xCc7bb2D219A0FC08033E130629C2B854b7bA9195\" # ZETA on goerli\n",
    "WETH_ADDRESS =\"0xB4FBF271143F4FBf7B91A5ded31805e42b2208d6\"# WETH on goerli\n",
    "\n",
    "with open(\"abis/IUniswapV2Pair.json\", \"r\") as f:\n",
    "    IUniswapV2Pair =json.loads(f.read())\n",
    "with open(\"abis/IUniswapV2Factory.json\", \"r\") as f:\n",
    "    IUniswapV2Factory =json.loads(f.read())\n",
    "with open(\"abis/IUniswapV2Router02.json\", \"r\") as f:\n",
    "    IUniswapV2Router02 =json.loads(f.read())\n",
    "with open(\"abis/IERC20.json\", \"r\") as f:\n",
    "    IERC20 =json.loads(f.read())\n",
    "\n",
    "w3 = Web3(HTTPProvider(RPC_URL))\n",
    "factory = w3.eth.contract(address = FACTORY_ADDRESS , abi = IUniswapV2Factory[\"abi\"])\n",
    "router = w3.eth.contract(address = ROUTER_ADDRESS , abi = IUniswapV2Router02[\"abi\"])\n",
    "\n",
    "eth_dai_address = factory.functions.getPair(ZETA_ADDRESS , WETH_ADDRESS).call() # eth_daiのコントラクトアドレスを取得\n",
    "eth_dai = w3.eth.contract(address = eth_dai_address, abi = IUniswapV2Pair[\"abi\"]) # eth_daiのコントラクトインスタンスを取得\n",
    "print(\"\")\n",
    "print(\"token0 = \",  eth_dai.functions.token0().call())\n",
    "print(\"token1 = \",  eth_dai.functions.token1().call())\n",
    "\n",
    "reserves = eth_dai.functions.getReserves().call()\n",
    "print(\"\")\n",
    "print(\"token0 reserver = \", reserves[0]*10**(-18))\n",
    "print(\"token1 reserver = \", reserves[1]*10**(-18))\n",
    "print(\"block.timestamp = \", reserves[2])\n",
    "print(\"token0 price = \", reserves[1]/reserves[0]) # DAI/ETH price in this case"
   ]
  },
  {
   "cell_type": "markdown",
   "id": "c557b35d",
   "metadata": {},
   "source": [
    "oken0 reserver =  6263.410192658549\n",
    "token1 reserver =  938406.2974996647\n",
    " block.timestamp =  1682048028\n",
    "token0 price =  149.82354159074345"
   ]
  },
  {
   "cell_type": "code",
   "execution_count": 44,
   "id": "06495ae6",
   "metadata": {
    "scrolled": true
   },
   "outputs": [
    {
     "data": {
      "text/plain": [
       "['__annotations__',\n",
       " '__call__',\n",
       " '__class__',\n",
       " '__delattr__',\n",
       " '__dict__',\n",
       " '__dir__',\n",
       " '__doc__',\n",
       " '__eq__',\n",
       " '__format__',\n",
       " '__ge__',\n",
       " '__getattribute__',\n",
       " '__gt__',\n",
       " '__hash__',\n",
       " '__init__',\n",
       " '__init_subclass__',\n",
       " '__le__',\n",
       " '__lt__',\n",
       " '__module__',\n",
       " '__ne__',\n",
       " '__new__',\n",
       " '__reduce__',\n",
       " '__reduce_ex__',\n",
       " '__repr__',\n",
       " '__setattr__',\n",
       " '__sizeof__',\n",
       " '__slotnames__',\n",
       " '__str__',\n",
       " '__subclasshook__',\n",
       " '__weakref__',\n",
       " '_build_transaction',\n",
       " '_encode_transaction_data',\n",
       " '_estimate_gas',\n",
       " '_get_call_txparams',\n",
       " '_return_data_normalizers',\n",
       " '_set_function_info',\n",
       " '_transact',\n",
       " 'abi',\n",
       " 'address',\n",
       " 'args',\n",
       " 'arguments',\n",
       " 'build_transaction',\n",
       " 'call',\n",
       " 'contract_abi',\n",
       " 'decode_tuples',\n",
       " 'estimate_gas',\n",
       " 'factory',\n",
       " 'fn_name',\n",
       " 'function_identifier',\n",
       " 'get_fallback_function',\n",
       " 'get_receive_function',\n",
       " 'kwargs',\n",
       " 'selector',\n",
       " 'transact',\n",
       " 'transaction',\n",
       " 'w3']"
      ]
     },
     "execution_count": 44,
     "metadata": {},
     "output_type": "execute_result"
    }
   ],
   "source": [
    "weth = w3.eth.contract(address = WETH_ADDRESS, abi = IERC20[\"abi\"])\n",
    "dir(weth.functions.approve(ROUTER_ADDRESS, weth_amount))"
   ]
  },
  {
   "cell_type": "markdown",
   "id": "b68f9427",
   "metadata": {},
   "source": [
    "## approve"
   ]
  },
  {
   "cell_type": "code",
   "execution_count": 6,
   "id": "1f5a19f7",
   "metadata": {
    "scrolled": true
   },
   "outputs": [
    {
     "data": {
      "text/plain": [
       "HexBytes('0x373fcb56abeef9e30988ee9cf3585eec31b1f0b54fdea1d844fd2e7789e5ef61')"
      ]
     },
     "execution_count": 6,
     "metadata": {},
     "output_type": "execute_result"
    }
   ],
   "source": [
    "my_address = os.getenv(\"ADDRESS\")\n",
    "my_private_key = os.getenv(\"PRIVATE_KEY\")\n",
    "weth = w3.eth.contract(address = WETH_ADDRESS, abi = IERC20[\"abi\"])\n",
    "\n",
    "weth_amount = w3.to_wei(0.1, \"ether\") # スワップしたい量\n",
    "\n",
    "nonce = w3.eth.get_transaction_count(my_address)\n",
    "tx_approve = weth.functions.approve(ROUTER_ADDRESS, weth_amount).build_transaction(\\\n",
    "    {'chainId': 5, \\\n",
    "     'type': 2, \\\n",
    "     'gas': 10**6, \\\n",
    "    'maxFeePerGas': w3.to_wei(100, 'gwei'),\\\n",
    "    'nonce': nonce, })\n",
    "signed_tx_approve = w3.eth.account.sign_transaction(tx_approve, private_key = my_private_key)\n",
    "w3.eth.send_raw_transaction(signed_tx_approve.rawTransaction)"
   ]
  },
  {
   "cell_type": "markdown",
   "id": "593143ee",
   "metadata": {},
   "source": [
    "## swapExactTokensForTokens (WETH to ZETA)"
   ]
  },
  {
   "cell_type": "code",
   "execution_count": 9,
   "id": "fd29cd8a",
   "metadata": {},
   "outputs": [
    {
     "data": {
      "text/plain": [
       "HexBytes('0x4a3b9c2b5b5437900c514fc675298281fe42026d278fee5e10240c3164afac82')"
      ]
     },
     "execution_count": 9,
     "metadata": {},
     "output_type": "execute_result"
    }
   ],
   "source": [
    "amountIn = weth_amount\n",
    "amountOutMin =int(reserves[0] / reserves[1] * amountIn * 0.99) # 1%以内のスリッページで実行\n",
    "path = [WETH_ADDRESS, ZETA_ADDRESS]\n",
    "to = my_address\n",
    "deadline = int(time.time() + 60*2) # 2分以内に実行されなければrevert\n",
    "nonce = w3.eth.get_transaction_count(my_address)\n",
    "tx_swap = router.functions.swapExactTokensForTokens(amountIn, amountOutMin, path, to, deadline).build_transaction(\\\n",
    "    {'chainId': 5, \\\n",
    "     'type': 2, \\\n",
    "     'gas': 10**6, \\\n",
    "    'maxFeePerGas': w3.to_wei('100', 'gwei'),\\\n",
    "    'nonce': nonce, })\n",
    "signed_tx_swap = w3.eth.account.sign_transaction(tx_swap, private_key = my_private_key)\n",
    "w3.eth.send_raw_transaction(signed_tx_swap.rawTransaction)"
   ]
  },
  {
   "cell_type": "markdown",
   "id": "388154c6",
   "metadata": {},
   "source": [
    "## swapETHForExactTokens"
   ]
  },
  {
   "cell_type": "code",
   "execution_count": 36,
   "id": "b3531a3b",
   "metadata": {},
   "outputs": [
    {
     "data": {
      "text/plain": [
       "HexBytes('0xf76768d5018d037ab11ed0b00560e1fbe15764d3616543c748c7f96f74cee670')"
      ]
     },
     "execution_count": 36,
     "metadata": {},
     "output_type": "execute_result"
    }
   ],
   "source": [
    "amountIn = w3.to_wei(0.01, \"ether\")\n",
    "path = [WETH_ADDRESS, ZETA_ADDRESS]\n",
    "amountOutMin = int(reserves[1] / reserves[0] * amountIn * 0.95) # 5%以内のスリッページで実行\n",
    "to = my_address\n",
    "deadline = int(time.time() + 60 * 2) # 2分以内に実行されなければrevert\n",
    "nonce = w3.eth.get_transaction_count(my_address)\n",
    "tx_swap = router.functions.swapETHForExactTokens(amountOutMin, path, to, deadline).build_transaction(\\\n",
    "    {'chainId': 5, \\\n",
    "     'type': 2, \\\n",
    "     'gas': 10**6, \\\n",
    "    'maxFeePerGas': w3.to_wei('100', 'gwei'),\\\n",
    "    'nonce': nonce, \n",
    "    'value': amountIn\n",
    "    })\n",
    "signed_tx_swap = w3.eth.account.sign_transaction(tx_swap, private_key = my_private_key)\n",
    "w3.eth.send_raw_transaction(signed_tx_swap.rawTransaction)"
   ]
  },
  {
   "cell_type": "markdown",
   "id": "9ee962b7",
   "metadata": {},
   "source": [
    "## swapExactETHForTokens"
   ]
  },
  {
   "cell_type": "code",
   "execution_count": 42,
   "id": "13c35529",
   "metadata": {},
   "outputs": [
    {
     "data": {
      "text/plain": [
       "HexBytes('0x8957efccf10fd621fd866bb138a03e4b3299537d727d8726aacb7fee819e562d')"
      ]
     },
     "execution_count": 42,
     "metadata": {},
     "output_type": "execute_result"
    }
   ],
   "source": [
    "amountOutMin = 0\n",
    "path = [WETH_ADDRESS, ZETA_ADDRESS]\n",
    "to = my_address\n",
    "deadline = int(time.time() + 60 * 2) # 2分以内に実行されなければrevert\n",
    "nonce = w3.eth.get_transaction_count(my_address)\n",
    "tx_swap = router.functions.swapExactETHForTokens(amountOutMin, path, to, deadline).build_transaction(\\\n",
    "    {'chainId': 5, \\\n",
    "     'type': 2, \\\n",
    "     'gas': 10**6, \\\n",
    "    'maxFeePerGas': w3.to_wei('100', 'gwei'),\\\n",
    "    'nonce': nonce, \n",
    "    'value': w3.to_wei(0.01, \"ether\")\n",
    "    })\n",
    "signed_tx_swap = w3.eth.account.sign_transaction(tx_swap, private_key = my_private_key)\n",
    "w3.eth.send_raw_transaction(signed_tx_swap.rawTransaction)"
   ]
  }
 ],
 "metadata": {
  "kernelspec": {
   "display_name": "Python 3 (ipykernel)",
   "language": "python",
   "name": "python3"
  },
  "language_info": {
   "codemirror_mode": {
    "name": "ipython",
    "version": 3
   },
   "file_extension": ".py",
   "mimetype": "text/x-python",
   "name": "python",
   "nbconvert_exporter": "python",
   "pygments_lexer": "ipython3",
   "version": "3.9.16"
  }
 },
 "nbformat": 4,
 "nbformat_minor": 5
}
